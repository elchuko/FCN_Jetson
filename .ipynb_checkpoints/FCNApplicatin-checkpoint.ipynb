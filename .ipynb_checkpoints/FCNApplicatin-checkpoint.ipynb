{
 "cells": [
  {
   "cell_type": "code",
   "execution_count": null,
   "metadata": {},
   "outputs": [],
   "source": [
    "import tensorflow as tf\n",
    "import cv2 as cv\n",
    "from tensorflow.keras import datasets, layers, models\n",
    "from tensorflow.keras.utils import to_categorical\n",
    "from tensorflow.keras.applications import vgg16\n",
    "from tensorflow.keras.models import Sequential\n",
    "from tensorflow.keras.layers import Conv2D, MaxPooling2D,Flatten, Dense\n",
    "import matplotlib.pyplot as plt\n",
    "import numpy as np\n",
    "\n",
    "%matplotlib inline"
   ]
  },
  {
   "cell_type": "code",
   "execution_count": null,
   "metadata": {},
   "outputs": [],
   "source": [
    "def load_dataset_from_route():\n",
    "    (train_images, train_labels), (test_images, test_labels) = datasets.cifar10.load_data()\n",
    "    training_set = (train_images, train_labels)\n",
    "    test_set = (test_images, test_labels)\n",
    "    return training_set, test_set\n",
    "\n",
    "training_set, test_set = load_dataset_from_route()\n",
    "class_names = ['airplane', 'automobile', 'bird', 'cat', 'deer',\n",
    "               'dog', 'frog', 'horse', 'ship', 'truck']\n",
    "training_images = training_set[0]/255\n",
    "training_labels = training_set[1]\n",
    "test_images = test_set[0]/255\n",
    "test_labels = test_set[1]\n",
    "\n"
   ]
  },
  {
   "cell_type": "code",
   "execution_count": null,
   "metadata": {},
   "outputs": [],
   "source": [
    "def create_model():\n",
    "    #model = vgg16.VGG16(include_top=True, weights=None, input_tensor=None, input_shape=(32,32,3), pooling='max', classes=10)\n",
    "    fcn_model = Sequential()\n",
    "    #primer bloque Conv -> Conv -> Pooling\n",
    "    fcn_model.add(Conv2D(64, (3, 3),activation='relu',padding='same', input_shape=(32,32,3)))\n",
    "    fcn_model.add(Conv2D(64, (3, 3),activation='relu',padding='same'))\n",
    "    fcn_model.add(MaxPooling2D((2,2), strides=(2,2)))\n",
    "    \n",
    "    #segundo bloque\n",
    "    fcn_model.add(Conv2D(128,(3,3),activation='relu',padding='same'))\n",
    "    fcn_model.add(Conv2D(128,(3,3),activation='relu',padding='same'))\n",
    "    fcn_model.add(MaxPooling2D((2,2), strides=(2,2)))\n",
    "    \n",
    "    #tercer bloque\n",
    "    fcn_model.add(Conv2D(256,(3,3),activation='relu',padding='same'))\n",
    "    fcn_model.add(Conv2D(256,(3,3),activation='relu',padding='same'))\n",
    "    fcn_model.add(MaxPooling2D((2,2), strides=(2,2)))\n",
    "    \n",
    "    #cuarto bloque\n",
    "    fcn_model.add(Conv2D(512,(3,3),activation='relu',padding='same'))\n",
    "    fcn_model.add(Conv2D(512,(3,3),activation='relu',padding='same'))\n",
    "    fcn_model.add(Conv2D(512,(3,3),activation='relu',padding='same'))\n",
    "    fcn_model.add(MaxPooling2D((2,2), strides=(2,2)))\n",
    "    \n",
    "    #5to bloque\n",
    "    fcn_model.add(Conv2D(512,(3,3),activation='relu',padding='same'))\n",
    "    fcn_model.add(Conv2D(512,(3,3),activation='relu',padding='same'))\n",
    "    fcn_model.add(Conv2D(512,(3,3),activation='relu',padding='same'))\n",
    "    fcn_model.add(MaxPooling2D((2,2), strides=(2,2)))\n",
    "    \n",
    "    #Fullyconnected Layer\n",
    "    fcn_model.add(Flatten())\n",
    "    fcn_model.add(Dense(4096, activation='relu'))\n",
    "    fcn_model.add(Dense(4096, activation='relu'))\n",
    "    fcn_model.add(Dense(10, activation='softmax'))\n",
    "    \n",
    "    return fcn_model\n",
    "\n",
    "vgg_model = create_model()\n",
    "vgg_model.compile(loss='categorical_crossentropy', optimizer='sgd', metrics=['acc', 'mse'])\n",
    "vgg_model.summary()\n",
    "vgg_model.fit(x=training_images, y=to_categorical(training_labels),batch_size = 32, epochs = 50, verbose = 1,callbacks = None, validation_split=0.0, validation_data=(test_images,to_categorical(test_labels)) )\n",
    "vgg_model.save_weights('modelo.h5')"
   ]
  },
  {
   "cell_type": "code",
   "execution_count": null,
   "metadata": {},
   "outputs": [],
   "source": [
    "image = cv.imread('ElAvion.jpg')\n",
    "image = cv.resize(image, (32,32))\n",
    "plt.imshow(image)\n",
    "image = np.resize(image, (1,32,32,3))\n",
    "#plt.imshow(image)\n",
    "image = tf.cast(image, tf.float32)\n",
    "print(image.shape)\n",
    "prediction = vgg_model.predict(image, batch_size = None, verbose = 0, steps = None, callbacks = None, max_queue_size = 10, workers = 1, use_multiprocessing = False)\n",
    "print(prediction)\n",
    "#predicted = np.argmax(prediction.shape[0], axis=1)\n",
    "#print(class_names[predicted])"
   ]
  }
 ],
 "metadata": {
  "kernelspec": {
   "display_name": "Python 3",
   "language": "python",
   "name": "python3"
  },
  "language_info": {
   "codemirror_mode": {
    "name": "ipython",
    "version": 3
   },
   "file_extension": ".py",
   "mimetype": "text/x-python",
   "name": "python",
   "nbconvert_exporter": "python",
   "pygments_lexer": "ipython3",
   "version": "3.7.4"
  }
 },
 "nbformat": 4,
 "nbformat_minor": 2
}
